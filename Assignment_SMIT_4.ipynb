{
 "cells": [
  {
   "cell_type": "code",
   "execution_count": 12,
   "metadata": {},
   "outputs": [
    {
     "name": "stdout",
     "output_type": "stream",
     "text": [
      "{'firstName': 'Muhammad Saad', 'lastName': 'Seth', 'age': '30', 'city': 'karachi', 'qualification': 'HighLevel'}\n",
      "{'firstName': 'Muhammad Saad', 'lastName': 'Seth', 'age': '30', 'city': 'karachi'}\n"
     ]
    }
   ],
   "source": [
    "#Question 01\n",
    "personBioData = {'firstName':'Muhammad Saad','lastName':'Seth','age':'30','city':'karachi'}\n",
    "\n",
    "personBioData['qualification']='HighLevel'\n",
    "print(personBioData)\n",
    "del personBioData['qualification']\n",
    "print(personBioData)"
   ]
  },
  {
   "cell_type": "code",
   "execution_count": 6,
   "metadata": {},
   "outputs": [
    {
     "name": "stdout",
     "output_type": "stream",
     "text": [
      "\n",
      "karachi\n",
      "country : pakistan\n",
      "population : 14.91 million\n",
      "fact : The City Of Light\n",
      "\n",
      "lahore\n",
      "country : pakistan\n",
      "population : 11.13 million\n",
      "fact : The City Of Iqbal\n",
      "\n",
      "Islamabad\n",
      "country : pakistan\n",
      "population : 1.015 million\n",
      "fact : The Capital Of Pakistan\n"
     ]
    }
   ],
   "source": [
    "# Question 02\n",
    "cities = {\n",
    "    'karachi':{'country':'pakistan','population':'14.91 million','fact':'The City Of Light'},\n",
    "    'lahore':{'country':'pakistan','population':'11.13 million','fact':'The City Of Iqbal'},\n",
    "    'Islamabad':{'country':'pakistan','population':'1.015 million','fact':'The Capital Of Pakistan'},\n",
    "}\n",
    "for i in cities.keys():\n",
    "    print('\\n'+i)\n",
    "    for j,k in cities[i].items():\n",
    "        print(j+' : '+k)"
   ]
  },
  {
   "cell_type": "code",
   "execution_count": 11,
   "metadata": {},
   "outputs": [
    {
     "name": "stdout",
     "output_type": "stream",
     "text": [
      "Enter Total Number of Persons : 1\n",
      "Enter person age : 20\n",
      "\n",
      " Total Ticket Price is : 15$\n"
     ]
    }
   ],
   "source": [
    "# Question 03\n",
    "persons=int(input('Enter Total Number of Persons : '))\n",
    "prices=[]\n",
    "for i in range(1,persons+1):\n",
    "    age=int(input('Enter person age : '))\n",
    "    if age < 3 :\n",
    "        prices.append(0)\n",
    "    elif (age>2)&(age<13):\n",
    "        prices.append(10)\n",
    "    else:\n",
    "        prices.append(15)\n",
    "total=sum(prices)\n",
    "print('\\n Total Ticket Price is : '+str(total)+'$')\n",
    "    "
   ]
  },
  {
   "cell_type": "code",
   "execution_count": 14,
   "metadata": {},
   "outputs": [
    {
     "name": "stdout",
     "output_type": "stream",
     "text": [
      "One of my favourite book is Sirat-un-Nabi *SAWW* \n"
     ]
    }
   ],
   "source": [
    "# Question 04\n",
    "def favourite_book(title):\n",
    "    print('One of my favourite book is '+title)\n",
    "favourite_book('Sirat-un-Nabi *SAWW* ')"
   ]
  },
  {
   "cell_type": "code",
   "execution_count": 15,
   "metadata": {},
   "outputs": [
    {
     "name": "stdout",
     "output_type": "stream",
     "text": [
      "7\n",
      "Guess The Number : 2\n",
      "\n",
      "your number is less than the actual number\n",
      "Guess The Number : 4\n",
      "\n",
      "your number is less than the actual number\n",
      "Guess The Number : 10\n",
      "\n",
      "your number is greater than the actual number\n",
      "\n",
      "You Lose The Game\n"
     ]
    }
   ],
   "source": [
    "# Question 05\n",
    "import random\n",
    "num=random.randrange(1,30,1)\n",
    "print(num)\n",
    "win=False\n",
    "for i in range(1,4):\n",
    "    number=int(input('Guess The Number : '))\n",
    "    if i!=4:\n",
    "        if number==num:\n",
    "            print('\\nWOW! you guess the right number')\n",
    "            win = True\n",
    "            break\n",
    "        elif number<num:\n",
    "            print('\\nyour number is less than the actual number')\n",
    "        elif number>num:\n",
    "            print('\\nyour number is greater than the actual number')\n",
    "\n",
    "if win==False:\n",
    "    print('\\nYou Lose The Game')"
   ]
  },
  {
   "cell_type": "code",
   "execution_count": null,
   "metadata": {},
   "outputs": [],
   "source": []
  }
 ],
 "metadata": {
  "kernelspec": {
   "display_name": "Python 3",
   "language": "python",
   "name": "python3"
  },
  "language_info": {
   "codemirror_mode": {
    "name": "ipython",
    "version": 3
   },
   "file_extension": ".py",
   "mimetype": "text/x-python",
   "name": "python",
   "nbconvert_exporter": "python",
   "pygments_lexer": "ipython3",
   "version": "3.7.4"
  }
 },
 "nbformat": 4,
 "nbformat_minor": 2
}
