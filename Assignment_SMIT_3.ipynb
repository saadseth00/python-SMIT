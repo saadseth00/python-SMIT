{
 "cells": [
  {
   "cell_type": "code",
   "execution_count": 22,
   "metadata": {},
   "outputs": [
    {
     "name": "stdout",
     "output_type": "stream",
     "text": [
      "Enter First Value :4\n",
      "Enter Second Value :5\n",
      "Enter the operation to be performed :-\n",
      "-1\n"
     ]
    }
   ],
   "source": [
    "# Question#1\n",
    "num1 = int(input('Enter First Value :'));\n",
    "num2 = int(input('Enter Second Value :'));\n",
    "operation = input('Enter the operation to be performed :');\n",
    "ans = 0 ;\n",
    "\n",
    "if operation == '+':\n",
    "    ans=num1+num2\n",
    "    print(ans)\n",
    "elif operation == '-':\n",
    "    ans=num1-num2\n",
    "    print(ans)\n",
    "elif operation == '/':\n",
    "    ans=num1/num2\n",
    "    print(ans)\n",
    "elif operation == '*':\n",
    "    ans=num1*num2\n",
    "    print(ans)\n",
    "else:\n",
    "    print\n",
    "    ('error operation is wrong input')"
   ]
  },
  {
   "cell_type": "code",
   "execution_count": 21,
   "metadata": {},
   "outputs": [
    {
     "name": "stdout",
     "output_type": "stream",
     "text": [
      "Hello is a not numeric value\n",
      "90 is a numeric value\n",
      "Hi is a not numeric value\n",
      "45 is a numeric value\n"
     ]
    }
   ],
   "source": [
    "# Question # 2\n",
    "a=['Hello',90,'Hi',45];\n",
    "for i in a:\n",
    "    if isinstance(i,str) == True:\n",
    "        print(str(i)+' is a not numeric value')\n",
    "    else:\n",
    "        print(str(i) +' is a numeric value')"
   ]
  },
  {
   "cell_type": "code",
   "execution_count": 23,
   "metadata": {},
   "outputs": [],
   "source": [
    "# Question # 3 \n",
    "# Has been covered with Question # 6 below"
   ]
  },
  {
   "cell_type": "code",
   "execution_count": 25,
   "metadata": {},
   "outputs": [
    {
     "name": "stdout",
     "output_type": "stream",
     "text": [
      "The Total Marks of Student is 359/500\n"
     ]
    }
   ],
   "source": [
    "# Question # 4 \n",
    "StudentMarksRecord = {\n",
    "    'Name':'Saad',\n",
    "    'Roll#':'59',\n",
    "    'Maths':91,\n",
    "    'English':80,\n",
    "    'Science':70,\n",
    "    'Urdu':65,\n",
    "    'Islamiat':53,\n",
    "    'status':'Passed',\n",
    "    'Grade':'B'\n",
    "}\n",
    "TotalMarks=0\n",
    "for i in StudentMarksRecord.values():\n",
    "    if isinstance(i,int) == True :\n",
    "        TotalMarks += i\n",
    "print('The Total Marks of Student is '+str(TotalMarks)+'/500')"
   ]
  },
  {
   "cell_type": "code",
   "execution_count": 26,
   "metadata": {},
   "outputs": [
    {
     "name": "stdout",
     "output_type": "stream",
     "text": [
      "Salman Ali has same Age : 25 years\n"
     ]
    }
   ],
   "source": [
    "# Question # 5\n",
    "StudentAge = {\n",
    "    'Muhammad ':21,\n",
    "    'Salman ':25,\n",
    "    'Irfan ':19,\n",
    "    'Umar ':18,\n",
    "    'Ali ':25,\n",
    "    'Anas ':24,\n",
    "}\n",
    "Duplicate={}\n",
    "for key,value in StudentAge.items():\n",
    "    if value not in Duplicate:\n",
    "        Duplicate[value]=[key]\n",
    "    else:\n",
    "        Duplicate[value].append(key)\n",
    "a=[]\n",
    "for key,val in Duplicate.items():\n",
    "    if len(val) == 1:\n",
    "        a.append(key)\n",
    "for i in a :\n",
    "    del Duplicate[i]\n",
    "string1=''\n",
    "for key,val in Duplicate.items():\n",
    "    keystr=str(key)\n",
    "    print(string1.join(val)+'has same Age : '+str(key)+' years')\n",
    "        "
   ]
  },
  {
   "cell_type": "code",
   "execution_count": 27,
   "metadata": {},
   "outputs": [
    {
     "name": "stdout",
     "output_type": "stream",
     "text": [
      "Record Updated\n",
      "Try Another Name. This Name Already Exist\n"
     ]
    }
   ],
   "source": [
    "# Question # 6 & Question # 3\n",
    "def studentRecord(Name,Age):\n",
    "    NameAdjustment = str.capitalize(Name)+' '\n",
    "    AgeAdjustment = int(Age)\n",
    "    if NameAdjustment not in StudentAge:\n",
    "        StudentAge[NameAdjustment]=AgeAdjustment\n",
    "        print('Record Updated')\n",
    "    else:\n",
    "        print('Try Another Name. This Name Already Exist')\n",
    "    \n",
    "studentRecord('Shams','21')\n",
    "studentRecord('Anas','24')"
   ]
  },
  {
   "cell_type": "code",
   "execution_count": null,
   "metadata": {},
   "outputs": [],
   "source": []
  }
 ],
 "metadata": {
  "kernelspec": {
   "display_name": "Python 3",
   "language": "python",
   "name": "python3"
  },
  "language_info": {
   "codemirror_mode": {
    "name": "ipython",
    "version": 3
   },
   "file_extension": ".py",
   "mimetype": "text/x-python",
   "name": "python",
   "nbconvert_exporter": "python",
   "pygments_lexer": "ipython3",
   "version": "3.7.4"
  }
 },
 "nbformat": 4,
 "nbformat_minor": 2
}
