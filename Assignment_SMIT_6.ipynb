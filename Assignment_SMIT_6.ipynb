{
 "cells": [
  {
   "cell_type": "code",
   "execution_count": 2,
   "metadata": {},
   "outputs": [],
   "source": [
    "#                                       Object-oriented programming\n",
    "\n",
    "\n",
    "# Object-oriented programming (OOP) is a programming language model \n",
    "# in which programs are organized around data, or objects, rather than functions and logic. \n",
    "# An object can be defined as a data field that has unique attributes and behavior. "
   ]
  },
  {
   "cell_type": "code",
   "execution_count": null,
   "metadata": {},
   "outputs": [],
   "source": [
    "#                                 Benefits of Object-oriented programming\n",
    "\n",
    "\n",
    "# - Ease of design & development\n",
    "# - Productivity\n",
    "# - Easy testing, debugging, and maintenance\n",
    "# - It’s reusable\n",
    "# - More thorough data analysis, less development time, and more accurate coding, thanks to OOP’s inheritance method\n",
    "# - Data is safe and secure, with less data corruption, thanks to hiding and abstraction\n",
    "# - It’s sharable (classes are reusable and can be distributed to other networks)"
   ]
  },
  {
   "cell_type": "code",
   "execution_count": 3,
   "metadata": {},
   "outputs": [],
   "source": [
    "#                                Difference between function and method\n",
    "\n",
    "\n",
    "# *) Functions are two types\n",
    "#        pre-define functions\n",
    "#        user-define Function\n",
    "# *) Functions can be used inside the class as well as outside of the class.\n",
    "# *) Functions can be controlled by the recursion.\n",
    "\n",
    "# *) Methods are always define by the user.\n",
    "# *) Methods are always used the Object Oriented Programming Language.\n",
    "# *) Methods are always defined inside the class."
   ]
  },
  {
   "cell_type": "code",
   "execution_count": 4,
   "metadata": {},
   "outputs": [],
   "source": [
    "# class\n",
    "#In object-oriented programming, a class is a blueprint for creating objects (a particular data structure), \n",
    "#providing initial values for state (member variables or attributes), and implementations of behavior \n",
    "#(member functions or methods)\n",
    "\n",
    "# object\n",
    "#An object can be defined as a data field that has unique attributes and behavior. \n",
    "\n",
    "# attributes\n",
    "#In Object-oriented programming(OOP), classes and objects have attributes. \n",
    "#Attributes are data stored inside a class or instance and represent the state or quality of the class or instance\n",
    "\n",
    "# behavior\n",
    "#A class's behavior determines how an instance of that class operates"
   ]
  },
  {
   "cell_type": "code",
   "execution_count": 3,
   "metadata": {},
   "outputs": [
    {
     "name": "stdout",
     "output_type": "stream",
     "text": [
      "Car from the following company is not available\n",
      "Car from the following company is not available\n"
     ]
    }
   ],
   "source": [
    "class Car():\n",
    "    def __init__(self, Company, Name, Model, Color, FuelType,):\n",
    "        self.Company = Company\n",
    "        self.Name = Name\n",
    "        self.Model = Model\n",
    "        self.Color = Color\n",
    "        self.FuelType = FuelType\n",
    "        self.UnavailableColor= ['KIA','Daihatsu']\n",
    "        \n",
    "    def checkFuelType(self):\n",
    "        if self.FuelType == 'CNG':\n",
    "            print(\"CNG are not available factory fitted\")\n",
    "    def checkCompany(self):\n",
    "        for i in self.UnavailableColor:\n",
    "            if self.Company == i:\n",
    "                print(\"Car from the following company is not available\")\n",
    "    def checkYear(self):\n",
    "        if self.Model < 2014:\n",
    "            print(\"Car over Five Year are not available\")\n",
    "    \n",
    "Car1 = Car('KIA','picanto',2019,'white','petrol') \n",
    "Car1.checkCompany()\n",
    "\n",
    "Car2 = Car('Honda','Civic',2016,'Silver','petrol')\n",
    "\n",
    "Car3 = Car('Daihatsu','Hijet',2011,'Black','petrol')\n",
    "Car3.checkCompany()\n",
    "\n",
    "Car4 = Car('Toyota','Corolla',2018,'white','petrol')\n",
    "\n",
    "Car5 = Car('Suzuki','Ciaz',2017,'red','petrol')\n"
   ]
  },
  {
   "cell_type": "code",
   "execution_count": null,
   "metadata": {},
   "outputs": [],
   "source": []
  }
 ],
 "metadata": {
  "kernelspec": {
   "display_name": "Python 3",
   "language": "python",
   "name": "python3"
  },
  "language_info": {
   "codemirror_mode": {
    "name": "ipython",
    "version": 3
   },
   "file_extension": ".py",
   "mimetype": "text/x-python",
   "name": "python",
   "nbconvert_exporter": "python",
   "pygments_lexer": "ipython3",
   "version": "3.7.4"
  }
 },
 "nbformat": 4,
 "nbformat_minor": 2
}
