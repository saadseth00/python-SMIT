{
 "cells": [
  {
   "cell_type": "code",
   "execution_count": 32,
   "metadata": {},
   "outputs": [
    {
     "name": "stdout",
     "output_type": "stream",
     "text": [
      "Enter Subject Name 4 alphabets only : jhjk\n",
      "Enter Marks : 89\n",
      "Enter Subject Name 4 alphabets only : kjkk\n",
      "Enter Marks : 57\n",
      "Enter Subject Name 4 alphabets only : kjml\n",
      "Enter Marks : 98\n",
      "Enter Subject Name 4 alphabets only : jhkk\n",
      "Enter Marks : 65\n",
      "Enter Subject Name 4 alphabets only : kjkl\n",
      "Enter Marks : 90\n",
      "   \n",
      " Subject    Marks    Grade \n",
      "\n",
      "  jhjk      89      A+\n",
      "\n",
      "  kjkk      57      C\n",
      "\n",
      "  kjml      98      A+\n",
      "\n",
      "  jhkk      65      B\n",
      "\n",
      "  kjkl      90      A+\n",
      "\n",
      "Marks Acheived: 399/500\n"
     ]
    }
   ],
   "source": [
    "# Question1\n",
    "itr= [0,1,2,3,4];\n",
    "total = 0;\n",
    "subs = [];\n",
    "markLi= [];\n",
    "gr = [];\n",
    "\n",
    "for i in itr:\n",
    "    sub=input(\"Enter Subject Name : \")\n",
    "    marks=int(input(\"Enter Marks : \"))\n",
    "    subs.append(sub)\n",
    "    markLi.append(marks)\n",
    "    \n",
    "for i in markLi:\n",
    "    if i<50:\n",
    "        gr.append('D')\n",
    "    elif i<60:\n",
    "        gr.append('C')\n",
    "    elif i<70:\n",
    "        gr.append('B')\n",
    "    elif i<80:\n",
    "        gr.append('A')\n",
    "    else:\n",
    "        gr.append('A+')\n",
    "        \n",
    "for i in markLi:\n",
    "    total +=i \n",
    "total=str(total)\n",
    "\n",
    "print('   ')\n",
    "print(' Subject    Marks    Grade \\n')        \n",
    "for i in itr:\n",
    "    print('  '+subs[i]+'      '+str(markLi[i])+'      '+gr[i]+'\\n');\n",
    "print('Marks Acheived: '+total+'/500')"
   ]
  },
  {
   "cell_type": "code",
   "execution_count": 29,
   "metadata": {},
   "outputs": [
    {
     "name": "stdout",
     "output_type": "stream",
     "text": [
      "Enter Number: 56\n",
      "Even Number\n"
     ]
    }
   ],
   "source": [
    "# Question # 2\n",
    "Num = input(\"Enter Number: \");\n",
    "numToStr = int(Num);\n",
    "if numToStr%2 == 0:\n",
    "    print(\"Even Number\")\n",
    "else:\n",
    "    print(\"Odd Number\")\n"
   ]
  },
  {
   "cell_type": "code",
   "execution_count": 28,
   "metadata": {},
   "outputs": [
    {
     "name": "stdout",
     "output_type": "stream",
     "text": [
      "11\n"
     ]
    }
   ],
   "source": [
    "# Question3\n",
    "a = [90, 17, 25, 3,78, 8, 103, 21, 354, 545, 89];\n",
    "len=0\n",
    "for i in a:\n",
    "    len+=1\n",
    "print(str(len))    "
   ]
  },
  {
   "cell_type": "code",
   "execution_count": 26,
   "metadata": {},
   "outputs": [
    {
     "name": "stdout",
     "output_type": "stream",
     "text": [
      "232\n"
     ]
    }
   ],
   "source": [
    "# Question4\n",
    "a = [90, 17, 25, 3,78, 8, 103, 21, 354, 545, 89];\n",
    "sum = 0\n",
    "for i in a:\n",
    "    sum +=i \n",
    "print(str(sum))"
   ]
  },
  {
   "cell_type": "code",
   "execution_count": 27,
   "metadata": {},
   "outputs": [
    {
     "name": "stdout",
     "output_type": "stream",
     "text": [
      "545\n"
     ]
    }
   ],
   "source": [
    "# Question5\n",
    "a = [90, 17, 25, 3,78, 8, 103, 21, 354, 545, 89];\n",
    "print(str(max(a)))"
   ]
  },
  {
   "cell_type": "code",
   "execution_count": 16,
   "metadata": {},
   "outputs": [
    {
     "name": "stdout",
     "output_type": "stream",
     "text": [
      "[1, 1, 2, 3]\n"
     ]
    }
   ],
   "source": [
    "# Question6\n",
    "a = [1, 1, 2, 3, 5, 8, 13, 21, 34, 55, 89];\n",
    "arr=[];\n",
    "for o in a:\n",
    "    if o<5:\n",
    "        arr.append(i)\n",
    "print(arr)"
   ]
  }
 ],
 "metadata": {
  "kernelspec": {
   "display_name": "Python 3",
   "language": "python",
   "name": "python3"
  },
  "language_info": {
   "codemirror_mode": {
    "name": "ipython",
    "version": 3
   },
   "file_extension": ".py",
   "mimetype": "text/x-python",
   "name": "python",
   "nbconvert_exporter": "python",
   "pygments_lexer": "ipython3",
   "version": "3.7.4"
  }
 },
 "nbformat": 4,
 "nbformat_minor": 2
}
